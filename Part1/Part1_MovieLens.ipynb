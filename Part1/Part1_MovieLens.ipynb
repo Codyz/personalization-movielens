{
 "cells": [
  {
   "cell_type": "markdown",
   "metadata": {},
   "source": [
    "# Objective\n",
    "The goal of this personalization project will be to maximize the accuracy of our recommendation system when considering the results of recommending the top-5 movies for a given user. \n",
    "\n",
    "Max accuracy or coverage of recommendations\n",
    "\n",
    "MovieLens is a web-based recommender system and virtual community that recommends movies for its users to watch, based on their film preferences using CF of members' movie ratings and reviews. To address the cold-start problem for new users, MovieLens uses preference elicitation where they ask new users to rate how much they enjoy watching different genres of movies."
   ]
  },
  {
   "cell_type": "markdown",
   "metadata": {},
   "source": [
    "The dataset contains 10000054 ratings. Users were selected at random but all users selected had rated at least 20 movies. The data contains three files: \n",
    "\n",
    "#### 1. Movies.dat\n",
    "Each line of this file represents one movie, and has the following format: MovieID::Title::Genres\n",
    "MovieID is the real MovieLens id.\n",
    "\n",
    "Movie titles, by policy, should be entered identically to those found in IMDB, including year of release. However, they are entered manually, so errors and inconsistencies may exist.\n",
    "\n",
    "Genres are a pipe-separated list, and are selected from the following:\n",
    "\n",
    "Action\n",
    "Adventure\n",
    "Animation\n",
    "Children's\n",
    "Comedy\n",
    "Crime\n",
    "Documentary\n",
    "Drama\n",
    "Fantasy\n",
    "Film-Noir\n",
    "Horror\n",
    "Musical\n",
    "Mystery\n",
    "Romance\n",
    "Sci-Fi\n",
    "Thriller\n",
    "War\n",
    "Western\n",
    "\n",
    "\n",
    "#### 2. Ratings.dat\n",
    "All ratings are contained in the file ratings.dat. Each line of this file represents one rating of one movie by one user, and has the following format:\n",
    "\n",
    "UserID::MovieID::Rating::Timestamp\n",
    "\n",
    "The lines within this file are ordered first by UserID, then, within user, by MovieID.\n",
    "\n",
    "Ratings are made on a 1-5 star scale, with half-star increments.\n",
    "\n",
    "Timestamps represent seconds since midnight Coordinated Universal Time (UTC) of January 1, 1970.\n",
    "\n",
    "\n",
    "#### 3. Tags.dat\n",
    "All tags are contained in the file tags.dat. Each line of this file represents one tag applied to one movie by one user, and has the following format:\n",
    "\n",
    "UserID::MovieID::Tag::Timestamp\n",
    "\n",
    "The lines within this file are ordered first by UserID, then, within user, by MovieID.\n",
    "\n",
    "Tags are user generated metadata about movies. Each tag is typically a single word, or short phrase. The meaning, value and purpose of a particular tag is determined by each user.\n",
    "\n",
    "Timestamps represent seconds since midnight Coordinated Universal Time (UTC) of January 1, 1970.\n",
    "\n"
   ]
  },
  {
   "cell_type": "markdown",
   "metadata": {},
   "source": [
    "# 1. Item-Based Nearest Neighbors"
   ]
  },
  {
   "cell_type": "markdown",
   "metadata": {},
   "source": [
    "For each user, we'd like to accurately recommend a set of top 5 movies they'd enjoy which they have not seen yet (their rating is 0). To do this we will use an approach that is similar to weighted KNN. "
   ]
  },
  {
   "cell_type": "markdown",
   "metadata": {},
   "source": [
    "First we will import the necessary libraries for building our item-based nearest neighbors CF model as well as read in our datasets described earlier. \n"
   ]
  },
  {
   "cell_type": "code",
   "execution_count": 3,
   "metadata": {
    "collapsed": true
   },
   "outputs": [],
   "source": [
    "import pandas as pd \n",
    "import numpy as np\n",
    "import random\n",
    "from surprise import Dataset, evaluate\n",
    "from surprise import KNNBasic\n",
    "from sklearn import cross_validation as cv\n",
    "\n",
    "\n",
    "#Define the format of each of the data files\n",
    "#Movies; MovieID::Title::Genres\n",
    "moviescol = ['MovieId', 'Title', 'Genres','Action', 'Adventure',\n",
    " 'Animation', 'Children\\'s', 'Comedy', 'Crime', 'Documentary', 'Drama', 'Fantasy',\n",
    " 'Film-Noir', 'Horror', 'Musical', 'Mystery', 'Romance', 'Sci-Fi', 'Thriller', 'War', 'Western']\n",
    "movies = pd.read_csv('./movies.dat', sep='::', names = moviescol, engine='python')\n",
    "\n",
    "'''\n",
    "Generates a new matrix with movie ID and indicator columns for the genre(s) of that movie.\n",
    "'''\n",
    "movie_genre = []\n",
    "for (idx, row) in movies.iterrows(): \n",
    "    genres = row.loc['Genres'].split(\"|\")\n",
    "    movieid = row.loc['MovieId']\n",
    "    for g in genres:  \n",
    "        movie_genre.append({'MovieId': movieid, 'Genre': g})\n",
    "\n",
    "#movie_genre = pd.DataFrame(moviegenre)\n",
    "\n",
    "\n",
    "moviegenrecol = ['Action', 'Adventure', 'Animation', 'Children', 'Comedy', 'Crime', 'Documentary', 'Drama', 'Fantasy', 'Film-Noir', 'Horror', 'IMAX', 'Musical', 'Mystery', 'Romance', 'Sci-Fi', 'Thriller', 'War', 'Western']\n",
    "\n",
    "test = pd.DataFrame(0, index = np.arange(len(movies)), columns = moviegenrecol)\n",
    "MovieGenres = pd.concat([movies['MovieId'], test], axis = 1)\n",
    "MovieGenres.columns= ['MovieId','Action', 'Adventure', 'Animation', 'Children', 'Comedy', 'Crime', 'Documentary', 'Drama', 'Fantasy', 'Film-Noir', 'Horror', 'IMAX', 'Musical', 'Mystery', 'Romance', 'Sci-Fi', 'Thriller', 'War', 'Western']\n",
    "        \n",
    "for row in movie_genre: \n",
    "    movieID = row['MovieId']\n",
    "    genre = row['Genre']\n",
    "    MovieGenres.loc[MovieGenres.MovieId==movieID,genre]=1\n",
    "\n",
    "###########################################\n",
    "# Reads in User, Item Ratings raw data file  (ratings.dat)\n",
    "###########################################\n",
    "\n",
    "#Ratings:\n",
    "#UserID::MovieID::Rating::Timestamp\n",
    "ratingscol = ['UserID', 'MovieID', 'Rating', 'Timestamp']\n",
    "ratings = pd.read_csv('./ml-10M100K/ratings.dat', sep='::', names = ratingscol, engine='python')\n",
    "\n"
   ]
  },
  {
   "cell_type": "markdown",
   "metadata": {
    "collapsed": true
   },
   "source": [
    "In order to determine the most appropriate way to sample our data, we first need to get a better understanding of the sparsity level of the user-item matrix. As seen in the introduction paper of item-based CF, we can calculate the Sparsity level of a matrix by using 1- (nonzero entries/total entries) "
   ]
  },
  {
   "cell_type": "code",
   "execution_count": 43,
   "metadata": {},
   "outputs": [
    {
     "name": "stdout",
     "output_type": "stream",
     "text": [
      "Number of users = 69878 | Number of movies = 10677\n",
      "The sparsity level of MovieLens10M is 98.7%\n"
     ]
    }
   ],
   "source": [
    "# Compute the Sparsity of the Matrix by first finding the number of unique items and users present in the ratings df. Although the Movielens site already provides us with number of unique movies and usrs information, we provide a procedure to obtain it regardless.\n",
    "\n",
    "n_users = ratings['UserID'].nunique()\n",
    "n_items = ratings['MovieID'].nunique()\n",
    "\n",
    "print 'Number of users = ' + str(n_users) + ' | Number of movies = ' + str(n_items)\n",
    "\n",
    "sparsity = round(1.0-len(ratings)/float(n_users*n_items),3)\n",
    "print 'The sparsity level of MovieLens10M is ' +  str(sparsity*100) + '%'"
   ]
  },
  {
   "cell_type": "markdown",
   "metadata": {},
   "source": [
    "Given that we want to work with a sample size of 10000 users and 100 items to start with, we cannot sample at random due to the high sparsity level previously calculated. Therefore we will obtain the top 10000 users with the most ratings and the most rated 100 movies."
   ]
  },
  {
   "cell_type": "code",
   "execution_count": 5,
   "metadata": {
    "scrolled": false
   },
   "outputs": [],
   "source": [
    "user_sample = ratings['UserID'].value_counts().head(10000).index\n",
    "movie_sample = ratings['MovieID'].value_counts().head(100).index\n",
    "\n",
    "ratings_subset = ratings.loc[ratings['UserID'].isin(user_sample)].loc[ratings['MovieID'].isin(movie_sample)]"
   ]
  },
  {
   "cell_type": "markdown",
   "metadata": {},
   "source": [
    "And then we can divide this subset into a training and test set for our item based CF model."
   ]
  },
  {
   "cell_type": "code",
   "execution_count": 6,
   "metadata": {},
   "outputs": [],
   "source": [
    "train_data, test_data = cv.train_test_split(ratings_subset, test_size=0.20)"
   ]
  },
  {
   "cell_type": "markdown",
   "metadata": {},
   "source": [
    "We want to format the ratings matrices to be one row per user and one column per movie -- we also substitute all missing values with 0. Therefore we have a 10000 x 100 matrix where each element of the matrix (i,j) represents how user i rated movie j. "
   ]
  },
  {
   "cell_type": "code",
   "execution_count": 14,
   "metadata": {
    "collapsed": true,
    "scrolled": true
   },
   "outputs": [],
   "source": [
    "#Ratings Matrix of Subset\n",
    "subset_pivot = ratings_subset.pivot(index = 'UserID', columns = 'MovieID', values = 'Rating').fillna(0)\n",
    "\n",
    "#Training and Test Data Ratings Matrices\n",
    "ratings_pivot_train = train_data.pivot(index = 'UserID', columns = 'MovieID', values = 'Rating').fillna(0)\n",
    "ratings_pivot_test = test_data.pivot(index = 'UserID', columns = 'MovieID', values = 'Rating').fillna(0)\n"
   ]
  },
  {
   "cell_type": "code",
   "execution_count": 15,
   "metadata": {
    "scrolled": true
   },
   "outputs": [
    {
     "name": "stdout",
     "output_type": "stream",
     "text": [
      "The total number of nonzero entries in the ratings subset matrix is 622885\n",
      "The sparsity of the ratings subset matrix is 0.377115\n"
     ]
    }
   ],
   "source": [
    "nonzero = np.count_nonzero(subset_pivot)\n",
    "print 'The total number of nonzero entries in the ratings subset matrix is ' +  str(nonzero)\n",
    "\n",
    "totalentries = 100*10000.0\n",
    "sparsity = 1- nonzero/totalentries\n",
    "\n",
    "print 'The sparsity of the ratings subset matrix is '+ str(sparsity)"
   ]
  },
  {
   "cell_type": "markdown",
   "metadata": {},
   "source": [
    "Now we obtain the two user-item matrices for the train and test data that has been normalized by each user's ratings"
   ]
  },
  {
   "cell_type": "code",
   "execution_count": 16,
   "metadata": {
    "collapsed": true
   },
   "outputs": [],
   "source": [
    "train_matrix = ratings_pivot_train.as_matrix()\n",
    "mean_train_matrix = np.mean(train_matrix, axis =1)\n",
    "Norm_train = train_matrix - mean_train_matrix.reshape(-1,1)\n",
    "\n",
    "test_matrix = ratings_pivot_test.as_matrix()\n",
    "mean_test_matrix = np.mean(test_matrix, axis =1)\n",
    "Norm_test = test_matrix - mean_test_matrix.reshape(-1,1)"
   ]
  },
  {
   "cell_type": "code",
   "execution_count": 13,
   "metadata": {
    "collapsed": true
   },
   "outputs": [],
   "source": [
    "subset_matrix = subset_pivot.as_matrix()\n",
    "mean_subset_matrix = np.mean(subset_matrix, axis=1)\n",
    "\n",
    "#Normalized Ratings Subset Matrix -- normalized by each user's average rating\n",
    "Norm_RM = subset_matrix - mean_subset_matrix.reshape(-1,1)"
   ]
  },
  {
   "cell_type": "code",
   "execution_count": 102,
   "metadata": {
    "collapsed": true,
    "scrolled": true
   },
   "outputs": [],
   "source": [
    "#Full Ratings matrix for Model Based CF \n",
    "ratings_pivot = ratings.pivot(index = 'UserID', columns = 'MovieID', values = 'Rating').fillna(0)\n",
    "\n",
    "ratingsmatrix = ratings_pivot.as_matrix()\n",
    "mean_ratingsmatrix = np.mean(ratingsmatrix, axis=1)\n",
    "\n",
    "#Full Normalized Ratings Matrix\n",
    "Norm_RM = ratingsmatrix - mean_ratingsmatrix.reshape(-1,1)"
   ]
  },
  {
   "cell_type": "markdown",
   "metadata": {},
   "source": [
    "Now that we have Norm_Train and Norm_Test, we can calculate pairwise distances to calculate the adjusted cosine similarity between items. The similarity(i,j) is measured over users who have rated both items i and j (corated)."
   ]
  },
  {
   "cell_type": "code",
   "execution_count": 48,
   "metadata": {
    "scrolled": true
   },
   "outputs": [
    {
     "name": "stdout",
     "output_type": "stream",
     "text": [
      "(100, 100)\n"
     ]
    }
   ],
   "source": [
    "from sklearn.metrics.pairwise import pairwise_distances\n",
    "movie_similarity = pairwise_distances(Norm_train.T, metric = 'cosine')\n",
    "\n",
    "print movie_similarity.shape"
   ]
  },
  {
   "cell_type": "markdown",
   "metadata": {},
   "source": [
    "Note that the above similarity matrix's values range from 0 to 1 where 0 is the most similar (distance = 0) and 1 is the farthest. "
   ]
  },
  {
   "cell_type": "markdown",
   "metadata": {},
   "source": [
    "Lastly we define a prediction function that takes as its input the ratings matrix and similarity matrix"
   ]
  },
  {
   "cell_type": "code",
   "execution_count": 52,
   "metadata": {},
   "outputs": [
    {
     "name": "stdout",
     "output_type": "stream",
     "text": [
      "[[ 2.24582853  2.27919893  2.33387239 ...,  2.20001163  2.17035863\n",
      "   2.21447905]\n",
      " [ 2.26690356  2.39011729  2.38873142 ...,  2.29656582  2.29948749\n",
      "   2.32359231]\n",
      " [ 1.77970189  1.82176662  1.8198291  ...,  1.82184241  1.80737437\n",
      "   1.81232816]\n",
      " ..., \n",
      " [ 2.08775262  2.20442111  2.16729756 ...,  2.10405981  2.04054022\n",
      "   2.06465039]\n",
      " [ 1.93244354  1.96529185  2.024831   ...,  1.95627726  1.93399987\n",
      "   1.9427243 ]\n",
      " [ 1.54446714  1.66020773  1.65827868 ...,  1.52943019  1.48862508\n",
      "   1.50991189]]\n"
     ]
    }
   ],
   "source": [
    "def predict(ratings_matrix, movie_sim): \n",
    "    prediction = ratings_matrix.dot(movie_sim) / np.array([np.abs(movie_sim).sum(axis=1)])\n",
    "    return prediction\n",
    "\n",
    "item_prediction = predict(train_matrix, movie_similarity)\n",
    "print item_"
   ]
  },
  {
   "cell_type": "markdown",
   "metadata": {},
   "source": [
    "1. Define a set of mutually observed users that have specified ratings for movie i and j \n",
    "2. Compute similarity between movie i and movie j using Pearson's correlation\n",
    "3. Find top k matching items to movie i for which user u has specified ratings. the weighted average of these ratings is reported as the predicted rating value of that item"
   ]
  },
  {
   "cell_type": "markdown",
   "metadata": {},
   "source": [
    "# 2. Model Based CF Algorithm\n",
    "Matrix Factorization"
   ]
  },
  {
   "cell_type": "markdown",
   "metadata": {},
   "source": [
    "# 3. Evaluation Methods\n",
    "\n",
    "## (i) Cross Validation Setup\n",
    "To withhold 10% of user item pairs, generate a random number for each user item pair randomly from [0,1] and withhold those >.90 for that randomly generated #"
   ]
  },
  {
   "cell_type": "markdown",
   "metadata": {},
   "source": [
    "\n",
    "\n",
    "## (ii) Accuracy on Training/Test Data\n",
    "- % Correct /Hit Rate: great for KPI correlation but they need a baseline for model accuracy otherwise it's not helpful\n",
    "- ROC - based (precision, recall, F1-score, AUC - area under curve) when building and comparing models, and communicate ROC\n",
    "- ROC  / percent-correct / hit-rate metrics when communicating to key stake holders\n"
   ]
  },
  {
   "cell_type": "markdown",
   "metadata": {},
   "source": [
    "(a) Graph of different similarity measures' MAE histogram\n",
    "(b) Sensitivity of the parameter x: MAE vs Train/Test ratio x \n",
    "(c) Sensitivity of the neighborhood size: MAE vs # of neighbors"
   ]
  },
  {
   "cell_type": "markdown",
   "metadata": {},
   "source": [
    "\n",
    "## (iii) Coverage on training and test data\n",
    "1. Define using accuracy metrics what a good recommendation is\n",
    "2. Then \n",
    "\ta. User-Coverage: the fraction of users for which AT LEAST k items can be recommended well \n",
    "\tb. Item-Coverage: the fraction of items that can be recommended to at least k users well\n",
    "\tc. Catalog Coverage: the fraction of items that are in the top-k for at least 1 user\n",
    "    \n",
    "? What are the tradeoffs between accuracy and coverage? \n",
    "\n",
    "User bias + item bias + mean rating = baseline \n",
    "\n",
    "How do your evaluation metrics change as a function of parameters such as neighborhood size, # of latent dimensions? \n",
    "\n",
    "_Personal Note_ In general when the neighborhood size K is small, we're forcing our classifier to be \"more blind\" to the overall distribution. A small K will have low bias but higher variance. On the other hand, a higher K averages more voters in each prediction and is more resilient to outliers. This consequently results in lower variance but increased bias. "
   ]
  },
  {
   "cell_type": "markdown",
   "metadata": {},
   "source": [
    "### Model Size Variation\n",
    "How does overall accuracy change when you systematically sample your data from a small to large size? How does runtime scale? \n",
    "\n",
    "a) Error vs Sample Size"
   ]
  },
  {
   "cell_type": "markdown",
   "metadata": {
    "collapsed": true
   },
   "source": [
    "(i) Graph of accuracy measure (RMSE, MAE vs sample size)\n",
    "(ii) Runtime Graph: Runtime vs Model Size "
   ]
  }
 ],
 "metadata": {
  "kernelspec": {
   "display_name": "Python 2",
   "language": "python",
   "name": "python2"
  },
  "language_info": {
   "codemirror_mode": {
    "name": "ipython",
    "version": 2
   },
   "file_extension": ".py",
   "mimetype": "text/x-python",
   "name": "python",
   "nbconvert_exporter": "python",
   "pygments_lexer": "ipython2",
   "version": "2.7.13"
  }
 },
 "nbformat": 4,
 "nbformat_minor": 2
}
