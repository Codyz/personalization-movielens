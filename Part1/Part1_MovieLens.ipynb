{
 "cells": [
  {
   "cell_type": "markdown",
   "metadata": {},
   "source": [
    "# Objective\n",
    "*What is your objective? What are you willing to sacrifice?*\n",
    "\n",
    "Max accuracy or coverage of recommendations\n",
    "\n",
    "MovieLens is a web-based recommender system and virtual community that recommends movies for its users to watch, based on their film preferences using CF of members' movie ratings and reviews. To address the cold-start problem for new users, MovieLens uses preference elicitation where they ask new users to rate how muh they enjoy watching different genres of movies."
   ]
  },
  {
   "cell_type": "markdown",
   "metadata": {},
   "source": [
    "Develop a small dataset(< 10000 users / < 100 items) be thoughtful as to how you're sampling data\n",
    "\n",
    "The dataset contains 10000054 ratings and 95580 tags applied to 10681 movies by 71567 users. Users were selected at random but all users selected had rated at least 20 movies. The data contains three files: \n",
    "\n",
    "#### 1. Movies.dat\n",
    "Each line of this file represents one movie, and has the following format: MovieID::Title::Genres\n",
    "MovieID is the real MovieLens id.\n",
    "\n",
    "Movie titles, by policy, should be entered identically to those found in IMDB, including year of release. However, they are entered manually, so errors and inconsistencies may exist.\n",
    "\n",
    "Genres are a pipe-separated list, and are selected from the following:\n",
    "\n",
    "Action\n",
    "Adventure\n",
    "Animation\n",
    "Children's\n",
    "Comedy\n",
    "Crime\n",
    "Documentary\n",
    "Drama\n",
    "Fantasy\n",
    "Film-Noir\n",
    "Horror\n",
    "Musical\n",
    "Mystery\n",
    "Romance\n",
    "Sci-Fi\n",
    "Thriller\n",
    "War\n",
    "Western\n",
    "\n",
    "\n",
    "#### 2. Ratings.dat\n",
    "All ratings are contained in the file ratings.dat. Each line of this file represents one rating of one movie by one user, and has the following format:\n",
    "\n",
    "UserID::MovieID::Rating::Timestamp\n",
    "\n",
    "The lines within this file are ordered first by UserID, then, within user, by MovieID.\n",
    "\n",
    "Ratings are made on a 5-star scale, with half-star increments.\n",
    "\n",
    "Timestamps represent seconds since midnight Coordinated Universal Time (UTC) of January 1, 1970.\n",
    "\n",
    "\n",
    "#### 3. Tags.dat\n",
    "All tags are contained in the file tags.dat. Each line of this file represents one tag applied to one movie by one user, and has the following format:\n",
    "\n",
    "UserID::MovieID::Tag::Timestamp\n",
    "\n",
    "The lines within this file are ordered first by UserID, then, within user, by MovieID.\n",
    "\n",
    "Tags are user generated metadata about movies. Each tag is typically a single word, or short phrase. The meaning, value and purpose of a particular tag is determined by each user.\n",
    "\n",
    "Timestamps represent seconds since midnight Coordinated Universal Time (UTC) of January 1, 1970.\n",
    "\n"
   ]
  },
  {
   "cell_type": "markdown",
   "metadata": {},
   "source": [
    "# 1. Item-Based Nearest Neighbors"
   ]
  },
  {
   "cell_type": "markdown",
   "metadata": {},
   "source": [
    "First we will import the necessary libraries for building our item-based nearest neighbors CF model as well as read in our datasets described earlier. \n",
    "\n",
    "1) Check your sparsity \n",
    "2) If not too sparse, sample randomly. If too sparse, choose top n items / top n users. State concerns / assumptions. "
   ]
  },
  {
   "cell_type": "code",
   "execution_count": 6,
   "metadata": {},
   "outputs": [
    {
     "name": "stdout",
     "output_type": "stream",
     "text": [
      "   MovieId  Action  Adventure  Animation  Children  Comedy  Crime  \\\n",
      "0        1       0          1          1         1       1      0   \n",
      "1        2       0          1          0         1       0      0   \n",
      "2        3       0          0          0         0       1      0   \n",
      "3        4       0          0          0         0       1      0   \n",
      "4        5       0          0          0         0       1      0   \n",
      "5        6       1          0          0         0       0      1   \n",
      "6        7       0          0          0         0       1      0   \n",
      "7        8       0          1          0         1       0      0   \n",
      "8        9       1          0          0         0       0      0   \n",
      "9       10       1          1          0         0       0      0   \n",
      "\n",
      "   Documentary  Drama  Fantasy         ...          Horror  IMAX  Musical  \\\n",
      "0            0      0        1         ...               0     0        0   \n",
      "1            0      0        1         ...               0     0        0   \n",
      "2            0      0        0         ...               0     0        0   \n",
      "3            0      1        0         ...               0     0        0   \n",
      "4            0      0        0         ...               0     0        0   \n",
      "5            0      0        0         ...               0     0        0   \n",
      "6            0      0        0         ...               0     0        0   \n",
      "7            0      0        0         ...               0     0        0   \n",
      "8            0      0        0         ...               0     0        0   \n",
      "9            0      0        0         ...               0     0        0   \n",
      "\n",
      "   Mystery  Romance  Sci-Fi  Thriller  War  Western  (no genres listed)  \n",
      "0        0        0       0         0    0        0                 NaN  \n",
      "1        0        0       0         0    0        0                 NaN  \n",
      "2        0        1       0         0    0        0                 NaN  \n",
      "3        0        1       0         0    0        0                 NaN  \n",
      "4        0        0       0         0    0        0                 NaN  \n",
      "5        0        0       0         1    0        0                 NaN  \n",
      "6        0        1       0         0    0        0                 NaN  \n",
      "7        0        0       0         0    0        0                 NaN  \n",
      "8        0        0       0         0    0        0                 NaN  \n",
      "9        0        0       0         1    0        0                 NaN  \n",
      "\n",
      "[10 rows x 21 columns]\n",
      "Done\n"
     ]
    }
   ],
   "source": [
    "import pandas as pd \n",
    "import numpy as np\n",
    "\n",
    "#Define the format of each of the data files\n",
    "#Movies; MovieID::Title::Genres\n",
    "moviescol = ['MovieId', 'Title', 'Genres','Action', 'Adventure',\n",
    " 'Animation', 'Children\\'s', 'Comedy', 'Crime', 'Documentary', 'Drama', 'Fantasy',\n",
    " 'Film-Noir', 'Horror', 'Musical', 'Mystery', 'Romance', 'Sci-Fi', 'Thriller', 'War', 'Western']\n",
    "movies = pd.read_csv('./movies.dat', sep='::', names = moviescol, engine='python')\n",
    "\n",
    "movie_genre = []\n",
    "for (idx, row) in movies.iterrows(): \n",
    "    genres = row.loc['Genres'].split(\"|\")\n",
    "    movieid = row.loc['MovieId']\n",
    "    for g in genres:  \n",
    "        movie_genre.append({'MovieId': movieid, 'Genre': g})\n",
    "\n",
    "#movie_genre = pd.DataFrame(moviegenre)\n",
    "\n",
    "\n",
    "moviegenrecol = ['Action', 'Adventure', 'Animation', 'Children', 'Comedy', 'Crime', 'Documentary', 'Drama', 'Fantasy', 'Film-Noir', 'Horror', 'IMAX', 'Musical', 'Mystery', 'Romance', 'Sci-Fi', 'Thriller', 'War', 'Western']\n",
    "\n",
    "test = pd.DataFrame(0, index = np.arange(len(movies)), columns = moviegenrecol)\n",
    "MovieGenres = pd.concat([movies['MovieId'], test], axis = 1)\n",
    "MovieGenres.columns= ['MovieId','Action', 'Adventure', 'Animation', 'Children', 'Comedy', 'Crime', 'Documentary', 'Drama', 'Fantasy', 'Film-Noir', 'Horror', 'IMAX', 'Musical', 'Mystery', 'Romance', 'Sci-Fi', 'Thriller', 'War', 'Western']\n",
    "        \n",
    "for row in movie_genre: \n",
    "    movieID = row['MovieId']\n",
    "    genre = row['Genre']\n",
    "    MovieGenres.loc[MovieGenres.MovieId==movieID,genre]=1\n",
    "    \n",
    "    \n",
    "print MovieGenres.head(10)\n",
    "print 'Done'\n",
    "\n",
    "\n",
    "# #Ratings:\n",
    "# #UserID::MovieID::Rating::Timestamp\n",
    "# ratingscol = ['UserID', 'MovieID', 'Rating', 'Timestamp']\n",
    "# ratings = pd.read_csv('./ml-10M100K/ratings.dat', sep='::', names = ratingscol, engine='python')\n",
    "\n",
    "# #Tags: \n",
    "# tagscol = ['UserID', 'MovieID', 'Rating', 'Timestamp']\n",
    "# tags = pd.read_csv('./ml-10M100K/ratings.dat', sep='::', names = tagscol, engine='python')\n",
    "# tags.head()\n",
    "\n"
   ]
  },
  {
   "cell_type": "code",
   "execution_count": null,
   "metadata": {
    "collapsed": true
   },
   "outputs": [],
   "source": []
  },
  {
   "cell_type": "markdown",
   "metadata": {},
   "source": [
    "# 2. Model Based CF Algorithm\n",
    "Matrix Factorization"
   ]
  },
  {
   "cell_type": "markdown",
   "metadata": {},
   "source": [
    "# 3. Evaluation Methods\n",
    "\n",
    "## (i) Cross Validation Setup\n",
    "To withhold 10% of user item pairs, generate a random number for each user item pair randomly from [0,1] and withhold those >.90 for that randomly generated #\n",
    "\n",
    "\n",
    "## (ii) Accuracy on Training/Test Data\n",
    "- % Correct /Hit Rate: great for KPI correlation but they need a baseline for model accuracy otherwise it's not helpful\n",
    "- ROC - based (precision, recall, F1-score, AUC - area under curve) when building and comparing models, and communicate ROC\n",
    "- ROC  / percent-correct / hit-rate metrics when communicating to key stake holders\n",
    "\n",
    "## (iii) Coverage on training and test data\n",
    "1. Define using accuracy metrics what a good recommendation is\n",
    "2. Then \n",
    "\ta. User-Coverage: the fraction of users for which AT LEAST k items can be recommended well \n",
    "\tb. Item-Coverage: the fraction of items that can be recommended to at least k users well\n",
    "\tc. Catalog Coverage: the fraction of items that are in the top-k for at least 1 user\n",
    "    \n",
    "? What are the tradeoffs between accuracy and coverage? \n",
    "\n",
    "User bias + item bias + mean rating = baseline \n",
    "\n",
    "How do your evaluation metrics change as a function of parameters such as neighborhood size, # of latent dimensions? \n",
    "\n",
    "_Personal Note_ In general when the neighborhood size K is small, we're forcing our classifier to be \"more blind\" to the overall distribution. A small K will have low bias but higher variance. On the other hand, a higher K averages more voters in each prediction and is more resilient to outliers. This consequently results in lower variance but increased bias. "
   ]
  },
  {
   "cell_type": "markdown",
   "metadata": {},
   "source": [
    "### Model Size Variation\n",
    "How does overall accuracy change when you systematically sample your data from a small to large size? How does runtime scale? \n",
    "\n",
    "a) Error vs Sample Size"
   ]
  },
  {
   "cell_type": "code",
   "execution_count": null,
   "metadata": {
    "collapsed": true
   },
   "outputs": [],
   "source": []
  }
 ],
 "metadata": {
  "kernelspec": {
   "display_name": "Python 2",
   "language": "python",
   "name": "python2"
  },
  "language_info": {
   "codemirror_mode": {
    "name": "ipython",
    "version": 2
   },
   "file_extension": ".py",
   "mimetype": "text/x-python",
   "name": "python",
   "nbconvert_exporter": "python",
   "pygments_lexer": "ipython2",
   "version": "2.7.13"
  }
 },
 "nbformat": 4,
 "nbformat_minor": 2
}
